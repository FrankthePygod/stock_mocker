{
 "cells": [
  {
   "cell_type": "code",
   "execution_count": 1,
   "metadata": {},
   "outputs": [],
   "source": [
    "import sqlite3\n",
    "con = sqlite3.connect('example.db')"
   ]
  },
  {
   "cell_type": "code",
   "execution_count": 2,
   "metadata": {},
   "outputs": [
    {
     "name": "stdout",
     "output_type": "stream",
     "text": [
      "[('Mark', 'a13612945807@hotmail.com', '10')]\n"
     ]
    }
   ],
   "source": [
    "cur = con.cursor()\n",
    "\n",
    "#创建一个UserTable\n",
    "# Create table\n",
    "cur.execute('''CREATE TABLE IF NOT EXISTS users\n",
    "               (name text, email text, grade text)''')\n",
    "# Insert a row of data\n",
    "cur.execute(\"INSERT INTO users VALUES ('Mark','a13612945807@hotmail.com','10')\")\n",
    "\n",
    "cur.execute(\"SELECT * FROM users\")\n",
    "print(cur.fetchall())\n"
   ]
  },
  {
   "cell_type": "code",
   "execution_count": 3,
   "metadata": {},
   "outputs": [
    {
     "name": "stdout",
     "output_type": "stream",
     "text": [
      "[('Mark', 'AAPL', '10', '120', '1200', '12-10-2021')]\n"
     ]
    }
   ],
   "source": [
    "# 创建一个股票Table\n",
    "cur.execute('''CREATE TABLE IF NOT EXISTS stocks\n",
    "               (user_name, symbol, bought_in_price, shares, total_value, date_bought_in)''')\n",
    "# Insert a row of data\n",
    "cur.execute(f\"INSERT INTO stocks VALUES ({user_name},'AAPL','10', '120', '1200', '12-10-2021')\")\n",
    "\n",
    "cur.execute(\"SELECT * FROM stocks\")\n",
    "print(cur.fetchall())"
   ]
  },
  {
   "cell_type": "code",
   "execution_count": 37,
   "metadata": {},
   "outputs": [],
   "source": [
    "#这个是如果要清理掉一个Table\n",
    "##con.execute('''DROP TABLE users''')"
   ]
  },
  {
   "cell_type": "code",
   "execution_count": 38,
   "metadata": {},
   "outputs": [],
   "source": [
    "con.commit()\n",
    "con.close()"
   ]
  },
  {
   "cell_type": "code",
   "execution_count": 10,
   "metadata": {},
   "outputs": [],
   "source": [
    "rows = ['APPL','TSLA']"
   ]
  },
  {
   "cell_type": "code",
   "execution_count": 20,
   "metadata": {},
   "outputs": [
    {
     "name": "stdout",
     "output_type": "stream",
     "text": [
      "True\n",
      "True\n"
     ]
    }
   ],
   "source": [
    "for symbol in rows:\n",
    "    while True:\n",
    "        try:\n",
    "            _share = int(input(f'for {symbol}, how many shares you want to purchase? (e.g. 1'))\n",
    "            break\n",
    "        except Exception: # Try to catch something more specific\n",
    "            pass"
   ]
  },
  {
   "cell_type": "code",
   "execution_count": null,
   "metadata": {},
   "outputs": [],
   "source": [
    "isinstance()"
   ]
  }
 ],
 "metadata": {
  "interpreter": {
   "hash": "40d3a090f54c6569ab1632332b64b2c03c39dcf918b08424e98f38b5ae0af88f"
  },
  "kernelspec": {
   "display_name": "Python 3.9.7 64-bit ('base': conda)",
   "language": "python",
   "name": "python3"
  },
  "language_info": {
   "codemirror_mode": {
    "name": "ipython",
    "version": 3
   },
   "file_extension": ".py",
   "mimetype": "text/x-python",
   "name": "python",
   "nbconvert_exporter": "python",
   "pygments_lexer": "ipython3",
   "version": "3.9.9"
  },
  "orig_nbformat": 4
 },
 "nbformat": 4,
 "nbformat_minor": 2
}
